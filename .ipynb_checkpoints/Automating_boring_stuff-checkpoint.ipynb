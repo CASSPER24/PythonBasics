{
 "cells": [
  {
   "cell_type": "markdown",
   "metadata": {},
   "source": [
    "# AUTOMATING THE BORING STUFF WITH PYTHON STEP BY STEP ANALYSIS\n",
    "#### - PYTHON PROGRAMMING BASICS\n",
    "* Flow Controls\n",
    "* Fuctions"
   ]
  },
  {
   "cell_type": "code",
   "execution_count": 1,
   "metadata": {},
   "outputs": [
    {
     "name": "stdout",
     "output_type": "stream",
     "text": [
      "Addition_&_subtraction:  24\n",
      "Int_Division:  3\n",
      "Division:  3.2857142857142856\n",
      "\n",
      "\n",
      "What's your name? :\n",
      "Emma\n",
      "Nice to meet you, Emma.The length of your name is 4 letters\n",
      "Enter your age: \n",
      "19\n",
      "You will be 20 in a year.\n",
      "Enter name: henry\n",
      "Hello Henry\n",
      "Enter passwordstudent\n",
      "Access Granted\n",
      "\n",
      "\n",
      "factorial of 1: 1\n",
      "factorial of 2: 2\n",
      "factorial of 3: 6\n",
      "factorial of 4: 24\n",
      "factorial of 5: 120\n"
     ]
    }
   ],
   "source": [
    "#the print fuction\n",
    "print(\"Addition_&_subtraction: \",(2+6)*3)\n",
    "print(\"Int_Division: \",23//7)\n",
    "print(\"Division: \",23/7)\n",
    "print('\\n')\n",
    "#strings in py\n",
    "print(\"What's your name? :\") # asks the user to input their name\n",
    "name = input()\n",
    "print(\"Nice to meet you, \"+ name +'.'+\"The length of your name is {0} letters\".format(len(name)))\n",
    "print(\"Enter your age: \")\n",
    "age = int(input())\n",
    "print(\"You will be \"+str((age+1))+' in a year.') #str fuction coverts int to a string\n",
    "\n",
    "#FLow CONTROLS\n",
    "name = input(\"Enter name: \").upper()\n",
    "if name == 'HENRY':\n",
    "    print(\"Hello Henry\")\n",
    "    password = input(\"Enter password\")\n",
    "    if password == 'student':\n",
    "        print(\"Access Granted\")\n",
    "    else:\n",
    "        print(\"Wrong password\")\n",
    "else:\n",
    "    print(\"Wrong user name\")\n",
    "    \n",
    "print('\\n')\n",
    "factorial = 1\n",
    "for num in range(1,6): #range funx to start at 1 and end at 6\n",
    "    factorial = factorial * num\n",
    "    print(f\"factorial of {num}: {factorial}\".format(num,factorial))"
   ]
  },
  {
   "cell_type": "markdown",
   "metadata": {},
   "source": [
    "* Fuctions\n",
    "* Exception Handling"
   ]
  },
  {
   "cell_type": "code",
   "execution_count": 2,
   "metadata": {},
   "outputs": [
    {
     "name": "stdout",
     "output_type": "stream",
     "text": [
      "Hello Joy\n",
      "Are you fine?\n",
      "Hope you are cool!\n",
      "Derrick\n",
      "Hello World!\n",
      "Dogs,Cats,Goats\n",
      "\n",
      "\n",
      "21.0\n",
      "Division by 0 is not possible\n",
      "None\n",
      "14.0\n"
     ]
    }
   ],
   "source": [
    "name = 'Derrick' # variable in the global scope\n",
    "def Hello():\n",
    "    name = 'Joy' # variable in the function's local scope\n",
    "    print(\"Hello {}\".format(name))\n",
    "    print(\"Are you fine?\")\n",
    "    print(\"Hope you are cool!\")\n",
    "\n",
    "Hello()\n",
    "print(name)\n",
    "\n",
    "print(\"Hello \",end='') #changing a keyword argument\n",
    "print(\"World!\")\n",
    "print('Dogs','Cats','Goats',sep=',') \n",
    "\n",
    "#Handling Exception\n",
    "def div(divide_by):\n",
    "    try:\n",
    "        return 42/divide_by\n",
    "    except ZeroDivisionError:\n",
    "        print(\"Division by 0 is not possible\")\n",
    "\n",
    "print('\\n')\n",
    "print(div(2))\n",
    "print(div(0))\n",
    "print(div(3))"
   ]
  },
  {
   "cell_type": "markdown",
   "metadata": {},
   "source": [
    "* Lists"
   ]
  },
  {
   "cell_type": "code",
   "execution_count": 3,
   "metadata": {
    "scrolled": true
   },
   "outputs": [
    {
     "name": "stdout",
     "output_type": "stream",
     "text": [
      "I am thinking of a number between 1 and 20. Take a Guess: \n",
      "15\n",
      "This is too low!\n",
      "I am thinking of a number between 1 and 20. Take a Guess: \n",
      "19\n",
      "This is too high!\n",
      "I am thinking of a number between 1 and 20. Take a Guess: \n",
      "16\n",
      "Wow you guessed my number in 3 counts\n",
      "Enter the student 1 Name or Enter nothing to stop: \n",
      "Emma\n",
      "Enter the student 2 Name or Enter nothing to stop: \n",
      "derrick\n",
      "Enter the student 3 Name or Enter nothing to stop: \n",
      "Kellen\n",
      "Enter the student 4 Name or Enter nothing to stop: \n",
      "Emma\n",
      "Name already entered!,Student Name deleted\n",
      "Enter a different student name\n",
      "Enter the student 4 Name or Enter nothing to stop: \n",
      "Emma\n",
      "Name already entered!,Student Name deleted\n",
      "Enter a different student name\n",
      "Enter the student 4 Name or Enter nothing to stop: \n",
      "\n",
      "['derrick', 'Kellen']\n",
      "\n",
      "\n",
      "The 1 student:  derrick\n",
      "The 2 student:  Kellen\n",
      "The 3 student:  Emma\n",
      "derrick,Kellen and Emma\n",
      "('derrick', 'Kellen', 'Emma')\n"
     ]
    }
   ],
   "source": [
    "import random as rdm #importing random module\n",
    "Guess_No = rdm.randint(1,20)\n",
    "Guess_count = 0\n",
    "while Guess_count <=6:\n",
    "    print('I am thinking of a number between 1 and 20. Take a Guess: ')\n",
    "    guess = int(input())\n",
    "    Guess_count +=1\n",
    "    if guess <16:\n",
    "        print(\"This is too low!\")\n",
    "    elif guess > 16:\n",
    "        print(\"This is too high!\")\n",
    "    elif guess ==16:\n",
    "        print(\"Wow you guessed my number in {} counts\".format(Guess_count))\n",
    "        break\n",
    "else:\n",
    "    print(\"Sorry You failed! , My Guess number is {}\".format(Guess_No))\n",
    "    \n",
    "# Lists\n",
    "students_name =[]\n",
    "count = 1\n",
    "while count:\n",
    "    print(\"Enter the student {} Name or Enter nothing to stop: \".format(count))\n",
    "    name = input()\n",
    "    if name in students_name:\n",
    "        print(\"Name already entered!,Student Name deleted\")\n",
    "        print(\"Enter a different student name\")\n",
    "        students_name.remove(name)\n",
    "        count -= 1\n",
    "    students_name.append(name)\n",
    "    count += 1\n",
    "    if name == '':\n",
    "        break\n",
    "del(students_name[-1])\n",
    "print(students_name[0:-1])\n",
    "\n",
    "print('\\n')\n",
    "\n",
    "counted = 0\n",
    "for name in students_name:\n",
    "    counted +=1\n",
    "    print(\"The {} student: \".format(counted), name)\n",
    "\n",
    "def return_string(a_list):\n",
    "    string = str((',').join(a_list[0:-1])) + \" and \" + a_list[-1]\n",
    "    return string\n",
    "\n",
    "print(return_string(students_name))\n",
    "\n",
    "# coverting lists to tuples and viceversa\n",
    "print(tuple(students_name))"
   ]
  },
  {
   "cell_type": "markdown",
   "metadata": {},
   "source": [
    "* Dictionaries\n",
    "* writing and reading files\n",
    "* copying and pasting text\n",
    "* Handling patterns with Regular expressions"
   ]
  },
  {
   "cell_type": "code",
   "execution_count": 4,
   "metadata": {},
   "outputs": [
    {
     "name": "stdout",
     "output_type": "stream",
     "text": [
      "Students in the database are: \n",
      "EMMA\n",
      "\n",
      "Derrick\n",
      "\n",
      "Joseph\n",
      "\n",
      "Joy : ITD/6767/PE\n",
      "\n",
      "Reagan : ITD/1000/PE\n",
      "\n",
      "Enter Student Name: God\n",
      "Enter Reg_NO: ITS/787/pe\n",
      "[{'Name': 'Frank', 'Reg_No': 'DCS/0023/PW'}, {'Name': 'Brenda', 'Reg_No': 'ITS/2900/PD'}, {'Name': 'Joy', 'Reg_No': 'ITD/1000/PE'}, {'Name': 'God', 'Reg_No': 'ITS/787/pe'}]\n",
      "{'Name': 'Joy', 'Reg_No': 'ITD/6767/PE'}\n",
      "\n",
      "\n",
      "* Lists of animals\n",
      "* Lists of aquarium life\n",
      "* Lists of biologists by author abbreviation\n",
      "* Lists of cultivars\n",
      "['DCS/0023/PW', 'ITS/2900/PD', 'ITD/1000/PE']\n"
     ]
    }
   ],
   "source": [
    "all_students = [\n",
    "    {\"Name\":\"Frank\",\"Reg_No\":\"DCS/0023/PW\"},\n",
    "    {\"Name\":\"Brenda\",\"Reg_No\":\"ITS/2900/PD\"},\n",
    "    {\"Name\":\"Joy\",\"Reg_No\":\"ITD/1000/PE\"}\n",
    "]  #a list of dictionaies\n",
    "\n",
    "def add_student(name,Reg_No): #fuction that takes two arguments name & Reg_No\n",
    "    student = {'Name': name , \"Reg_No\": Reg_No}\n",
    "    all_students.append(student) #appends the new student to the all_students list\n",
    "\n",
    "def save_file(name,Reg_no):\n",
    "    try:\n",
    "        open_file = open(\"all_students.txt\",'a') #opening file in append mode\n",
    "        open_file.write(name +' : '+ Reg_no + '\\n') #writing a new student in to our .txt file and adding a new line\n",
    "        open_file.close() #closing the file\n",
    "    except Exception:\n",
    "        print(\"Could not save file\") #Exception Handling in case of any error\n",
    "\n",
    "    \n",
    "def read_file():\n",
    "    try:\n",
    "        open_file = open('all_students.txt',\"r\")\n",
    "        print(\"Students in the database are: \")\n",
    "        for student in open_file.readlines():\n",
    "            print(student)\n",
    "        open_file.close()\n",
    "    except Exception:\n",
    "        print(\"Could not read file\")\n",
    "\n",
    "read_file()\n",
    "name = input(\"Enter Student Name: \")\n",
    "Reg_No = input(\"Enter Reg_NO: \")\n",
    "add_student(name,Reg_No)\n",
    "save_file(name,Reg_No)\n",
    "print(all_students)\n",
    "\n",
    "import pprint as pp  #importing the pretty printing module\n",
    "pp.pformat(all_students) #to keep the all_students file available even after close\n",
    "file = open(\"all_students.py\",'a')\n",
    "file.write('All_Students = ' + pp.pformat(all_students) + '\\n')\n",
    "file.close()\n",
    "\n",
    "import all_students as als\n",
    "print(als.All_Students[-1])\n",
    "\n",
    "print('\\n')\n",
    "import pyperclip\n",
    "Txt = 'Lists of animals\\nLists of aquarium life\\nLists of biologists by author abbreviation\\nLists of cultivars'\n",
    "pyperclip.copy(Txt) #copying to clipboard\n",
    "\n",
    "text = pyperclip.paste() #pasting from the clipboard\n",
    "lines = text.split('\\n') #splitting the text at a newline in text\n",
    "for i in range(len(lines)):\n",
    "    lines[i] = '* ' + lines[i]\n",
    "text = '\\n'.join(lines)\n",
    "print(text)\n",
    "\n",
    "import re #importing the regex module\n",
    "reg = re.compile(r'\\w\\w\\w/\\d{4}/\\w\\w',re.I) #str value representing the regex pattern\n",
    "\n",
    "found_reg = reg.findall(str(all_students))\n",
    "print(found_reg)"
   ]
  },
  {
   "cell_type": "markdown",
   "metadata": {},
   "source": [
    "#### Working with files and folders\n",
    "* copying files and folders\n",
    "* moving and renaming files and folders\n",
    "* permanently deleting files\n",
    "* send to trash\n",
    "* walking a directory tree\n"
   ]
  },
  {
   "cell_type": "code",
   "execution_count": 5,
   "metadata": {
    "scrolled": true
   },
   "outputs": [
    {
     "name": "stdout",
     "output_type": "stream",
     "text": [
      "The current folder is:  C:\\Users\\CASSPER24\\Desktop\\PYTHON AUTOMATION\n",
      "Sub Folder of C:\\Users\\CASSPER24\\Desktop\\PYTHON AUTOMATION: .ipynb_checkpoints\n",
      "Sub Folder of C:\\Users\\CASSPER24\\Desktop\\PYTHON AUTOMATION: cats\n",
      "Sub Folder of C:\\Users\\CASSPER24\\Desktop\\PYTHON AUTOMATION: Walnut\n",
      "Sub Folder of C:\\Users\\CASSPER24\\Desktop\\PYTHON AUTOMATION: whitehouse_waves-2015_12.csv_\n",
      "Sub Folder of C:\\Users\\CASSPER24\\Desktop\\PYTHON AUTOMATION: __pycache__\n",
      "File inside C:\\Users\\CASSPER24\\Desktop\\PYTHON AUTOMATION: all_students.py\n",
      "\n",
      "\n",
      "File inside C:\\Users\\CASSPER24\\Desktop\\PYTHON AUTOMATION: all_students.txt\n",
      "\n",
      "\n",
      "File inside C:\\Users\\CASSPER24\\Desktop\\PYTHON AUTOMATION: Automating_boring_stuff.ipynb\n",
      "\n",
      "\n",
      "File inside C:\\Users\\CASSPER24\\Desktop\\PYTHON AUTOMATION: dero.html\n",
      "\n",
      "\n",
      "File inside C:\\Users\\CASSPER24\\Desktop\\PYTHON AUTOMATION: googleplaystore.csv\n",
      "\n",
      "\n",
      "File inside C:\\Users\\CASSPER24\\Desktop\\PYTHON AUTOMATION: obama whit house.txt\n",
      "\n",
      "\n",
      "File inside C:\\Users\\CASSPER24\\Desktop\\PYTHON AUTOMATION: spam.txt\n",
      "\n",
      "\n",
      "File inside C:\\Users\\CASSPER24\\Desktop\\PYTHON AUTOMATION: whitehouse.txt\n",
      "\n",
      "\n",
      "File inside C:\\Users\\CASSPER24\\Desktop\\PYTHON AUTOMATION: whitehouse_waves-2015_12.csv\n",
      "\n",
      "\n",
      "File inside C:\\Users\\CASSPER24\\Desktop\\PYTHON AUTOMATION: whitehouse_waves-2015_12.csv_.zip\n",
      "\n",
      "\n",
      "The current folder is:  C:\\Users\\CASSPER24\\Desktop\\PYTHON AUTOMATION\\.ipynb_checkpoints\n",
      "File inside C:\\Users\\CASSPER24\\Desktop\\PYTHON AUTOMATION\\.ipynb_checkpoints: Automating_boring_stuff-checkpoint.ipynb\n",
      "\n",
      "\n",
      "The current folder is:  C:\\Users\\CASSPER24\\Desktop\\PYTHON AUTOMATION\\cats\n",
      "File inside C:\\Users\\CASSPER24\\Desktop\\PYTHON AUTOMATION\\cats: catnames.txt\n",
      "\n",
      "\n",
      "File inside C:\\Users\\CASSPER24\\Desktop\\PYTHON AUTOMATION\\cats: zophie.jpg\n",
      "\n",
      "\n",
      "The current folder is:  C:\\Users\\CASSPER24\\Desktop\\PYTHON AUTOMATION\\Walnut\n",
      "Sub Folder of C:\\Users\\CASSPER24\\Desktop\\PYTHON AUTOMATION\\Walnut: waffles\n",
      "The current folder is:  C:\\Users\\CASSPER24\\Desktop\\PYTHON AUTOMATION\\Walnut\\waffles\n",
      "File inside C:\\Users\\CASSPER24\\Desktop\\PYTHON AUTOMATION\\Walnut\\waffles: butter.txt\n",
      "\n",
      "\n",
      "The current folder is:  C:\\Users\\CASSPER24\\Desktop\\PYTHON AUTOMATION\\whitehouse_waves-2015_12.csv_\n",
      "File inside C:\\Users\\CASSPER24\\Desktop\\PYTHON AUTOMATION\\whitehouse_waves-2015_12.csv_: whitehouse_waves-2015_12.csv\n",
      "\n",
      "\n",
      "The current folder is:  C:\\Users\\CASSPER24\\Desktop\\PYTHON AUTOMATION\\__pycache__\n",
      "File inside C:\\Users\\CASSPER24\\Desktop\\PYTHON AUTOMATION\\__pycache__: all_students.cpython-38.pyc\n",
      "\n",
      "\n"
     ]
    }
   ],
   "source": [
    "import send2trash,os\n",
    "os.makedirs(\"C:\\\\Users\\\\CASSPER24\\\\Desktop\\\\PYTHON AUTOMATION\\\\new_documents\")\n",
    "delete_file = open(\"C:\\\\Users\\\\CASSPER24\\\\Desktop\\\\PYTHON AUTOMATION\\\\new_documents\\\\delete.txt\",'a')\n",
    "delete_file.write(\"This file will be deleted\")\n",
    "delete_file.close()\n",
    "send2trash.send2trash(\"C:\\\\Users\\\\CASSPER24\\\\Desktop\\\\PYTHON AUTOMATION\\\\new_documents\")\n",
    "os.makedirs('C:\\\\Users\\\\CASSPER24\\\\Desktop\\\\PYTHON AUTOMATION\\\\cats')\n",
    "open(\"C:\\\\Users\\\\CASSPER24\\\\Desktop\\\\PYTHON AUTOMATION\\\\cats\\\\catnames.txt\",'a')\n",
    "open(\"C:\\\\Users\\\\CASSPER24\\\\Desktop\\\\PYTHON AUTOMATION\\\\cats\\\\zophie.jpg\",'w')\n",
    "os.makedirs(\"C:\\\\Users\\\\CASSPER24\\\\Desktop\\\\PYTHON AUTOMATION\\\\Walnut\\\\waffles\")\n",
    "open(\"C:\\\\Users\\\\CASSPER24\\\\Desktop\\\\PYTHON AUTOMATION\\\\Walnut\\\\waffles\\\\butter.txt\",'a')\n",
    "open(\"C:\\\\Users\\\\CASSPER24\\\\Desktop\\\\PYTHON AUTOMATION\\\\spam.txt\",'a')\n",
    "\n",
    "for folder,sub_folder,file in os.walk(\"C:\\\\Users\\\\CASSPER24\\\\Desktop\\\\PYTHON AUTOMATION\"):\n",
    "    print(\"The current folder is: \",folder)\n",
    "    for subfolder in sub_folder:\n",
    "        print(\"Sub Folder of \"+folder+\": \"+subfolder)\n",
    "    for filename in file:\n",
    "        print('File inside '+folder+': '+filename)\n",
    "        print('\\n')\n"
   ]
  },
  {
   "cell_type": "markdown",
   "metadata": {},
   "source": [
    "### ZipFiles\n",
    "* creating and adding to zipfiles\n",
    "* extracting zipfiles"
   ]
  },
  {
   "cell_type": "code",
   "execution_count": 6,
   "metadata": {},
   "outputs": [
    {
     "name": "stdout",
     "output_type": "stream",
     "text": [
      "<ZipInfo filename='spam.txt' compress_type=deflate filemode='-rw-rw-rw-' file_size=86 compress_size=46>\n",
      "Enter the zip file name: zipped\n",
      "Finished un zipping zipped. It's now in zipped Folder\n"
     ]
    }
   ],
   "source": [
    "open_file = open('spam.txt','a')\n",
    "open_file.write('This file will be coverted in to a zipfile.')\n",
    "open_file.close()\n",
    "import zipfile, os\n",
    "new_zip = zipfile.ZipFile('zipped.zip','a')\n",
    "new_zip.write('spam.txt',compress_type=zipfile.ZIP_DEFLATED)\n",
    "new_zip.close()\n",
    "try:\n",
    "    print(new_zip.getinfo('spam.txt'))\n",
    "except KeyError:\n",
    "    print(\"This file is not found!\")\n",
    "# A program to unzip zipped files in the cwd\n",
    "def extract(zip_file_name = input(\"Enter the zip file name: \")):\n",
    "    import zipfile\n",
    "    extract_file = zipfile.ZipFile('{}.zip'.format(zip_file_name))\n",
    "    extract_file.extractall('{} Folder'.format(zip_file_name))\n",
    "    extract_file.close()\n",
    "    print(\"Finished un zipping {0}. It's now in {0} Folder\".format(zip_file_name))   \n",
    "extract()"
   ]
  },
  {
   "cell_type": "markdown",
   "metadata": {},
   "source": [
    "### Web scrapping\n",
    "* opening webpages from py\n",
    "* Downloading webpages with .get() method\n",
    "* parsing HTML with BeautifulSoup module\n",
    " * selecting elements with select() method"
   ]
  },
  {
   "cell_type": "code",
   "execution_count": 7,
   "metadata": {
    "scrolled": true
   },
   "outputs": [
    {
     "name": "stdout",
     "output_type": "stream",
     "text": [
      "True\n",
      "Length:  179380\n",
      "﻿The Project Gutenberg EBook of Romeo and Juliet, by William Shakespeare\r\n",
      "\r\n",
      "\r\n",
      "*******************************************************************\r\n",
      "THIS EBOOK WAS ONE OF PROJECT GUTENBERG'S EARLY FILES PRODUCED AT A\r\n",
      "TIME WHEN PROOFING METHODS AND TOO\n",
      "None\n",
      "Type:  <class 'bs4.BeautifulSoup'>\n",
      "Type of id select: <class 'bs4.element.ResultSet'>\n",
      "[]\n",
      "[<p>Banchelor of Information</p>, <p>year 1(2019)</p>, <p> Lorem ipsum dolor sit amet, consectetur adipisicing elit, sed do eiusmod\n",
      "\t\t\t\t\t\ttempor incididunt ut labore et dolore magna aliqua. Ut enim ad minim veniam,\n",
      "\t\t\t\t\t\tquis nostrud exercitation ullamco laboris nisi ut aliquip ex ea commodo\n",
      "\t\t\t\t\t\tconsequat. Duis aute irure dolor in reprehenderit in voluptate velit esse\n",
      "\t\t\t\t\t\tcillum dolore eu fugiat nulla pariatur. Excepteur sint occaecat cupidatat non\n",
      "\t\t\t\t\t\tproident, sunt in culpa qui officia deserunt mollit anim id est laborum. </p>, <p>© Derrick Ayesigye</p>, <p>click any of these links to contact me </p>]\n",
      "Type of p sel: <class 'bs4.element.ResultSet'>\n",
      "Length:  5\n"
     ]
    }
   ],
   "source": [
    "import webbrowser,requests,bs4\n",
    "\n",
    "#opening web pages\n",
    "webbrowser.open('http://kyu.ac.ug') #opens kyambogo website\n",
    "\n",
    "#Dowloading webpages\n",
    "download_file = requests.get('http://www.gutenberg.org/cache/epub/1112/pg1112.txt')\n",
    "play_file = open('Romeo_and_juliet.txt','wb')\n",
    "for chunk in download_file.iter_content(100000): #returns chunks of content on each iteration\n",
    "    play_file.write(chunk)\n",
    "play_file.close()\n",
    "print(download_file.status_code == requests.codes.ok)\n",
    "print(\"Length: \",len(download_file.text))\n",
    "print(download_file.text[:250])\n",
    "print(download_file.raise_for_status())\n",
    "\n",
    "webpage= open('dero.html')\n",
    "soup_obj = bs4.BeautifulSoup(webpage.read(),features='html.parser') #assigning the soup\n",
    "print(\"Type: \",type(soup_obj)) \n",
    "\n",
    "# selecting elements with select()\n",
    "my_story_sel = soup_obj.select('#my story')\n",
    "print(\"Type of id select:\", type(my_story_sel))\n",
    "print(my_story_sel)\n",
    "p_select =soup_obj.select('p')\n",
    "print(p_select)\n",
    "print(\"Type of p sel:\", type(p_select))\n",
    "print(\"Length: \", len(p_select))\n"
   ]
  },
  {
   "cell_type": "markdown",
   "metadata": {},
   "source": [
    "### Working with csv files\n"
   ]
  },
  {
   "cell_type": "code",
   "execution_count": 8,
   "metadata": {
    "scrolled": true
   },
   "outputs": [
    {
     "name": "stdout",
     "output_type": "stream",
     "text": [
      "[['App', 'Category', 'Rating', 'Reviews', 'Size', 'Installs', 'Type', 'Price', 'Content Rating', 'Genres', 'Last Updated', 'Current Ver', 'Android Ver'], ['Photo Editor & Candy Camera & Grid & ScrapBook', 'ART_AND_DESIGN', '4.1', '159', '19M', '10,000+', 'Free', '0', 'Everyone', 'Art & Design', 'January 7, 2018', '1.0.0', '4.0.3 and up'], ['Coloring book moana', 'ART_AND_DESIGN', '3.9', '967', '14M', '500,000+', 'Free', '0', 'Everyone', 'Art & Design;Pretend Play', 'January 15, 2018', '2.0.0', '4.0.3 and up'], ['U Launcher Lite – FREE Live Cool Themes, Hide Apps', 'ART_AND_DESIGN', '4.7', '87510', '8.7M', '5,000,000+', 'Free', '0', 'Everyone', 'Art & Design', 'August 1, 2018', '1.2.4', '4.0.3 and up'], ['Sketch - Draw & Paint', 'ART_AND_DESIGN', '4.5', '215644', '25M', '50,000,000+', 'Free', '0', 'Teen', 'Art & Design', 'June 8, 2018', 'Varies with device', '4.2 and up']]\n",
      "\n",
      "\n",
      "Header:  ['App', 'Category', 'Rating', 'Reviews', 'Size', 'Installs', 'Type', 'Price', 'Content Rating', 'Genres', 'Last Updated', 'Current Ver', 'Android Ver']\n",
      "Number of rows =  13\n",
      "Number of columns =  10842\n",
      "\n",
      "\n",
      "['Photo Editor & Candy Camera & Grid & ScrapBook', 'ART_AND_DESIGN', '4.1', '159', '19M', '10,000+', 'Free', '0', 'Everyone', 'Art & Design', 'January 7, 2018', '1.0.0', '4.0.3 and up']\n",
      "\n",
      "\n",
      "['Coloring book moana', 'ART_AND_DESIGN', '3.9', '967', '14M', '500,000+', 'Free', '0', 'Everyone', 'Art & Design;Pretend Play', 'January 15, 2018', '2.0.0', '4.0.3 and up']\n",
      "\n",
      "\n",
      "['U Launcher Lite – FREE Live Cool Themes, Hide Apps', 'ART_AND_DESIGN', '4.7', '87510', '8.7M', '5,000,000+', 'Free', '0', 'Everyone', 'Art & Design', 'August 1, 2018', '1.2.4', '4.0.3 and up']\n",
      "\n",
      "\n",
      "['Sketch - Draw & Paint', 'ART_AND_DESIGN', '4.5', '215644', '25M', '50,000,000+', 'Free', '0', 'Teen', 'Art & Design', 'June 8, 2018', 'Varies with device', '4.2 and up']\n",
      "\n",
      "\n",
      "['Pixel Draw - Number Art Coloring Book', 'ART_AND_DESIGN', '4.3', '967', '2.8M', '100,000+', 'Free', '0', 'Everyone', 'Art & Design;Creativity', 'June 20, 2018', '1.1', '4.4 and up']\n",
      "\n",
      "\n",
      "Row_Index:  10472\n",
      "['Life Made WI-Fi Touchscreen Photo Frame', '1.9', '19', '3.0M', '1,000+', 'Free', '0', 'Everyone', '', 'February 11, 2018', '1.0.19', '4.0 and up']\n",
      "This row has 12 columns yet it is suppossed to have 13 columns\n"
     ]
    }
   ],
   "source": [
    "import csv\n",
    "open_file = open('googleplaystore.csv', encoding='utf8')\n",
    "from csv import reader\n",
    "read_file = reader(open_file)\n",
    "android = list(read_file)\n",
    "print(android[:5]) #printing the first 5 rows\n",
    "print('\\n')\n",
    "Header = android[0]\n",
    "print(\"Header: \", Header)\n",
    "print(\"Number of rows = \",len(Header))\n",
    "print(\"Number of columns = \",len(android))\n",
    "android = android[1:]\n",
    "print('\\n')\n",
    "def display(start,stop):\n",
    "    for row in android[start:stop]:\n",
    "        print(row)\n",
    "        print(\"\\n\")\n",
    "display(0,5)\n",
    "#checking for collect rows\n",
    "for row in android:\n",
    "    if len(row) != len(Header):\n",
    "        print(\"Row_Index: \",android.index(row))\n",
    "        print(row)\n",
    "        print(\"This row has {0} columns yet it is suppossed to have {1} columns\".format(len(row),len(Header)))"
   ]
  },
  {
   "cell_type": "markdown",
   "metadata": {},
   "source": [
    "### Working with Dates and Time \n",
    "   * datetime module"
   ]
  },
  {
   "cell_type": "code",
   "execution_count": 12,
   "metadata": {
    "scrolled": true
   },
   "outputs": [
    {
     "name": "stdout",
     "output_type": "stream",
     "text": [
      "1998-09-15 20:17:00\n",
      "Birth Year:  1998\n",
      "Birth Month:  9\n",
      "Birth day:  15\n",
      "\n",
      "\n",
      "2021-02-19 13:11:21.879778\n",
      "My age in days:  8192 days, 16:54:21.879778\n",
      "APPT_MADE_DATE 10\n",
      "APPT_START_DATE 11\n",
      "APPT_END_DATE 12\n",
      "APPT_CANCEL_DATE 13\n",
      "LAST_UPDATEDBY 15\n",
      "LASTENTRYDATE 17\n",
      "['10/1/2014 7:00', '10/1/2014 7:30', '10/1/2014 8:00', '10/1/2014 8:00', '10/1/2014 8:00', '10/1/2014 8:00', '10/1/2014 8:00', '10/1/2014 8:30', '10/1/2014 8:30', '10/1/2014 8:30']\n",
      "\n",
      "\n",
      "Date stripped:  [datetime.datetime(2014, 10, 1, 7, 0), datetime.datetime(2014, 10, 1, 7, 30), datetime.datetime(2014, 10, 1, 8, 0), datetime.datetime(2014, 10, 1, 8, 0), datetime.datetime(2014, 10, 1, 8, 0), datetime.datetime(2014, 10, 1, 8, 0), datetime.datetime(2014, 10, 1, 8, 0), datetime.datetime(2014, 10, 1, 8, 30), datetime.datetime(2014, 10, 1, 8, 30), datetime.datetime(2014, 10, 1, 8, 30)]\n",
      "\n",
      "\n",
      "Date strf :  [datetime.datetime(2014, 10, 1, 7, 0), datetime.datetime(2014, 10, 1, 7, 30), datetime.datetime(2014, 10, 1, 8, 0), datetime.datetime(2014, 10, 1, 8, 0), datetime.datetime(2014, 10, 1, 8, 0), datetime.datetime(2014, 10, 1, 8, 0), datetime.datetime(2014, 10, 1, 8, 0), datetime.datetime(2014, 10, 1, 8, 30), datetime.datetime(2014, 10, 1, 8, 30), datetime.datetime(2014, 10, 1, 8, 30)]\n",
      "\n",
      "\n",
      "Time alone:  [datetime.time(7, 0), datetime.time(7, 30), datetime.time(8, 0), datetime.time(8, 0), datetime.time(8, 0), datetime.time(8, 0), datetime.time(8, 0), datetime.time(8, 30), datetime.time(8, 30), datetime.time(8, 30)]\n"
     ]
    }
   ],
   "source": [
    "import csv,datetime as dt\n",
    "#dt.datetime(year, month, day, hour=0, minute=0, second=0) #this shows that year, month and day are required\n",
    "birthday = dt.datetime(1998, 9, 15, 20, 17)\n",
    "now = dt.datetime.now()\n",
    "print(birthday)\n",
    "print(\"Birth Year: \", birthday.year)\n",
    "print(\"Birth Month: \", birthday.month)\n",
    "print(\"Birth day: \", birthday.day)\n",
    "print('\\n')\n",
    "print(now)\n",
    "print('My age in days: ',now-birthday)\n",
    "open_file = open('whitehouse_waves-2015_12.csv')\n",
    "read_file = csv.reader(open_file)\n",
    "whitehouse_date = list(read_file)\n",
    "head = whitehouse_date[0]\n",
    "whitehouse_date = whitehouse_date[1:]\n",
    "for item in head:\n",
    "    if 'DATE' in item:\n",
    "        print(item,head.index(item))\n",
    "\n",
    "date_list =[]\n",
    "for row in whitehouse_date:\n",
    "    app_made_date = row[11]\n",
    "    date_list.append(app_made_date)\n",
    "    date_list = date_list[:10]\n",
    "print(date_list)\n",
    "print('\\n')\n",
    "date_strp = []\n",
    "for date in date_list:\n",
    "    strp = dt.datetime.strptime(date,'%m/%d/%Y %H:%M') #strptime  coverts str in to datetime objects\n",
    "    date_strp.append(strp)\n",
    "print(\"Date stripped: \",date_strp)\n",
    "print(\"\\n\")\n",
    "date_strf = []\n",
    "time_class =[]\n",
    "for date in date_strp:\n",
    "    strf = date.strftime(\"%B in %Y\") # formats datetime objects ,%B-month %Y-year(4 digit)\n",
    "    time_alone = date.time() # formats datetime obj to time class\n",
    "    date_strf.append(strf)\n",
    "    time_class.append(time_alone)\n",
    "print(\"Date strf : \",date_strp)\n",
    "print(\"\\n\")\n",
    "print(\"Time alone: \",time_class)"
   ]
  },
  {
   "cell_type": "markdown",
   "metadata": {},
   "source": [
    "### Opening programs in python"
   ]
  },
  {
   "cell_type": "code",
   "execution_count": null,
   "metadata": {},
   "outputs": [
    {
     "name": "stdout",
     "output_type": "stream",
     "text": [
      "Enter the program you want to start or nothing to stop: vlc\n",
      "starting Vlc\n"
     ]
    }
   ],
   "source": [
    "program_paths = {\"Mozilla\" : \"C:\\\\Program Files\\\\Mozilla Firefox\\\\firefox.exe\" ,\"Google\" : \"C:\\\\Program Files\\\\Google\\\\Chrome\\\\Application\\\\chrome.exe\" ,\n",
    "                \"Power Iso\" : \"C:\\\\Program Files\\\\PowerISO\\\\PowerISO.exe\" ,\"Sublime Text\" : \"C:\\\\Program Files\\\\Sublime Text 3\\\\sublime_text.exe\" ,\n",
    "                \"Vlc\" : \"C:\\\\Program Files\\\\VideoLAN\\\\VLC\\\\vlc.exe\" , \"Clipgrab\" : \"C:\\\\Program Files (x86)\\\\ClipGrab\\\\clipgrab.exe\",\n",
    "                 \"Word\": \"C:\\\\Program Files (x86)\\Microsoft Office\\\\root\\\\Office16\\\\WINWORD.EXE\" , \"Excel\" : \"C:\\\\Program Files (x86)\\\\Microsoft Office\\\\root\\\\Office16\\\\EXCEL.EXE\",\n",
    "                 \"Access\" : \"C:\\\\Program Files (x86)\\\\Microsoft Office\\\\root\\\\Office16\\\\MSACCESS.EXE\", \"Power Point\" : \"C:\\\\Program Files (x86)\\Microsoft Office\\\\root\\\\Office16\\\\POWERPNT.EXE\",\n",
    "                 \"Publisher\": \"C:\\\\Program Files (x86)\\\\Microsoft Office\\\\root\\\\Office16\\\\MSPUB.EXE\",\n",
    "                \"Calc\" : \"C:\\\\Windows\\\\System32\\\\calc.exe\"}\n",
    "\n",
    "for path in program_paths:\n",
    "    import subprocess as sp\n",
    "    program = input('Enter the program you want to start or nothing to stop: ').title()\n",
    "    if program in program_paths.keys():\n",
    "        sp.Popen(program_paths[program])\n",
    "        print(f\"starting {program}\")\n",
    "    elif program == '':\n",
    "        break\n",
    "    else:\n",
    "        print(\"Entered a wrong program name!\")\n"
   ]
  },
  {
   "cell_type": "code",
   "execution_count": null,
   "metadata": {},
   "outputs": [],
   "source": []
  }
 ],
 "metadata": {
  "kernelspec": {
   "display_name": "Python 3",
   "language": "python",
   "name": "python3"
  },
  "language_info": {
   "codemirror_mode": {
    "name": "ipython",
    "version": 3
   },
   "file_extension": ".py",
   "mimetype": "text/x-python",
   "name": "python",
   "nbconvert_exporter": "python",
   "pygments_lexer": "ipython3",
   "version": "3.8.0"
  }
 },
 "nbformat": 4,
 "nbformat_minor": 4
}
